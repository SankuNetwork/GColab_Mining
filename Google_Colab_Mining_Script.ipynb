{
  "nbformat": 4,
  "nbformat_minor": 0,
  "metadata": {
    "colab": {
      "name": "Google Colab Mining Script ",
      "provenance": [],
      "collapsed_sections": [],
      "authorship_tag": "ABX9TyODexBb2XUpcyjMH54NJohs",
      "include_colab_link": true
    },
    "kernelspec": {
      "name": "python3",
      "display_name": "Python 3"
    },
    "language_info": {
      "name": "python"
    }
  },
  "cells": [
    {
      "cell_type": "markdown",
      "metadata": {
        "id": "view-in-github",
        "colab_type": "text"
      },
      "source": [
        "<a href=\"https://colab.research.google.com/github/SankuNetwork/GColab_Mining/blob/main/Google_Colab_Mining_Script.ipynb\" target=\"_parent\"><img src=\"https://colab.research.google.com/assets/colab-badge.svg\" alt=\"Open In Colab\"/></a>"
      ]
    },
    {
      "cell_type": "code",
      "execution_count": null,
      "metadata": {
        "id": "b6hs8KY8I8IO"
      },
      "outputs": [],
      "source": [
        "#@title **GPU CHECKER**\n",
        "nvidia-smi"
      ]
    },
    {
      "cell_type": "code",
      "source": [
        "#@title **START ETC MINING**\n",
        "! wget https://github.com/Lolliedieb/lolMiner-releases/releases/download/1.47/lolMiner_v1.47_Lin64.tar.gz\n",
        "! sleep 2\n",
        "! ls\n",
        "! sleep 3\n",
        "! tar -xf lolMiner_v1.47_Lin64.tar.gz\n",
        "%cd 1.47\n",
        "! ./lolMiner --algo ETCHASH --pool etchash.unmineable.com:3333 --user XMR:445m3HDSN8oANx2PqJZb993T1eJuf5rZaY7UDYytxNyYKfubaPXjaYGh8vpTnH5PFqJ67ZF6SM6swa3meT2ap34K1ANB2Mi.Google_colab:#q7ro-oka2 --ethstratum ETHPROXY"
      ],
      "metadata": {
        "id": "lnIIV0pfLZFN"
      },
      "execution_count": null,
      "outputs": []
    },
    {
      "cell_type": "code",
      "source": [
        "#@title **START ETH MINING**\n",
        "! wget https://github.com/Lolliedieb/lolMiner-releases/releases/download/1.47/lolMiner_v1.47_Lin64.tar.gz\n",
        "! sleep 2\n",
        "! ls\n",
        "! sleep 3\n",
        "! tar -xf lolMiner_v1.47_Lin64.tar.gz\n",
        "%cd 1.47\n",
        "! ./lolMiner --algo ETHASH --pool ethash.unmineable.com:3333 --user XMR:445m3HDSN8oANx2PqJZb993T1eJuf5rZaY7UDYytxNyYKfubaPXjaYGh8vpTnH5PFqJ67ZF6SM6swa3meT2ap34K1ANB2Mi.Google_colab:#q7ro-oka2 --ethstratum ETHPROXY"
      ],
      "metadata": {
        "id": "U2zBkHa6MT1p"
      },
      "execution_count": null,
      "outputs": []
    },
    {
      "cell_type": "code",
      "source": [
        "#@title **MAKE GOOGLE COLAB ALIVE (KEEPALIVE)** \n",
        " \n",
        "alive = True #@param {type:'boolean'}\n",
        " \n",
        "! sleep 432000"
      ],
      "metadata": {
        "id": "yddDxT_NMYoU"
      },
      "execution_count": null,
      "outputs": []
    },
    {
      "cell_type": "markdown",
      "source": [
        "**Auto Reconnect**\n",
        "\n",
        "Press F12 >>> Select Console>>> Paste this code\n",
        "```\n",
        "function ClickConnect() {\n",
        "  console.log('Working')\n",
        "  document\n",
        "    .querySelector('#top-toolbar > colab-connect-button')\n",
        "    .shadowRoot.querySelector('#connect')\n",
        "    .click()\n",
        "}\n",
        "\n",
        "setInterval(ClickConnect, 60000)\n",
        "\n"
      ],
      "metadata": {
        "id": "LeDU1VSOM4Py"
      }
    }
  ]
}