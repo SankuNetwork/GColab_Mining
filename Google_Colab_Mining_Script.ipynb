{
  "nbformat": 4,
  "nbformat_minor": 0,
  "metadata": {
    "colab": {
      "name": "Google Colab Mining Script ",
      "provenance": [],
      "authorship_tag": "ABX9TyOu2lj2RT/uWVkJjxCkHpcj",
      "include_colab_link": true
    },
    "kernelspec": {
      "name": "python3",
      "display_name": "Python 3"
    },
    "language_info": {
      "name": "python"
    }
  },
  "cells": [
    {
      "cell_type": "markdown",
      "metadata": {
        "id": "view-in-github",
        "colab_type": "text"
      },
      "source": [
        "<a href=\"https://colab.research.google.com/github/SankuNetwork/GColab_Mining/blob/main/Google_Colab_Mining_Script.ipynb\" target=\"_parent\"><img src=\"https://colab.research.google.com/assets/colab-badge.svg\" alt=\"Open In Colab\"/></a>"
      ]
    },
    {
      "cell_type": "code",
      "execution_count": null,
      "metadata": {
        "id": "b6hs8KY8I8IO"
      },
      "outputs": [],
      "source": [
        ""
      ]
    }
  ]
}